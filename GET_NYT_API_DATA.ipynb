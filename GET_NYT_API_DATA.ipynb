{
 "cells": [
  {
   "cell_type": "markdown",
   "id": "fdcda1e6",
   "metadata": {},
   "source": [
    "# GET DATA FROM NYT BESTSELLER API \n",
    "\n",
    "The dataset is gathered from the New York Times Books API for 'Combined Print and E-book' Fiction best sellers from December 19, 2021 to December 18, 2022.\n",
    "\n",
    "The API can be found here: https://developer.nytimes.com/\n",
    "\n",
    "Collected data includes the book title, author, the publisher, the isbn, the contributor, the date of the best seller list, the rank (this week and last week), number of weeks on the list, and the price."
   ]
  },
  {
   "cell_type": "code",
   "execution_count": null,
   "id": "a0b72be3",
   "metadata": {},
   "outputs": [],
   "source": [
    "import requests, math, datetime, time\n",
    "import os\n",
    "import json\n",
    "import csv\n",
    "import pprint"
   ]
  },
  {
   "cell_type": "code",
   "execution_count": null,
   "id": "336603c7",
   "metadata": {},
   "outputs": [],
   "source": [
    "#API KEYS\n",
    "API_KEY = \"api_key\" #API KEYS\n",
    "\n",
    "#PARAMETERS\n",
    "LIST = \"/Combined%20Print%20and%20E-Book%20Fiction\"\n",
    "\n",
    "BOOKS_ROOT = \"https://api.nytimes.com/svc/books/v3/lists/\"\n",
    "\n",
    "#PARAMETERS\n",
    "LIST = \"/Combined%20Print%20and%20E-Book%20Fiction\"\n",
    "\n",
    "BOOKS_ROOT = \"https://api.nytimes.com/svc/books/v3/lists/\""
   ]
  },
  {
   "cell_type": "code",
   "execution_count": null,
   "id": "85128da4",
   "metadata": {},
   "outputs": [],
   "source": [
    "def parse_books(book_list, date):\n",
    "    books = []\n",
    "    for book in book_list['results']['books']:\n",
    "        dic = {}\n",
    "        dic['title'] = book['title']\n",
    "        dic['author'] = book['author']\n",
    "        dic['price'] = float(book['price'])\n",
    "        dic['publisher'] = book['publisher']\n",
    "        dic['isbn'] = book['primary_isbn10']\n",
    "        dic['contributor'] = book['contributor']\n",
    "        dic['date'] = date  \n",
    "        dic['rank'] = book['rank']\n",
    "        dic['rank_last_week'] = book['rank_last_week']\n",
    "        dic['weeks_on_list'] = book['weeks_on_list']      \n",
    "        books.append(dic)\n",
    "    return(books) "
   ]
  },
  {
   "cell_type": "code",
   "execution_count": null,
   "id": "e218484a",
   "metadata": {},
   "outputs": [],
   "source": [
    "    bestsellers = []\n",
    "    num_days_to_get = 365 #you can use up to 1000 api calls a day so max=1000\n",
    "    total = 0\n",
    "    \n",
    "    #create a directory to save data in csv files\n",
    "    if not os.path.exists('books'):\n",
    "        os.mkdir('books')\n",
    "    \n",
    "    for i in range(0,num_days_to_get):\n",
    "        day = datetime.datetime.now() - datetime.timedelta(days=i)  \n",
    "        date = str(day.date())\n",
    "        print('Dowloading bestseller books from....'+ date)\n",
    "        \n",
    "        #send api request\n",
    "        url = BOOKS_ROOT+date+LIST+'.json?api-key='+API_KEY\n",
    "        #send api request\n",
    "        response = requests.get(url)\n",
    "        time.sleep(6)\n",
    "        \n",
    "        if (response.status_code == 200):\n",
    "            results = response.json()\n",
    "            books = parse_books(results, date)\n",
    "            bestsellers.extend(books)\n",
    "            df = pd.DataFrame(bestsellers) \n",
    "            total += len(df)\n",
    "            df.to_csv('books/best_seller.csv', index=False)\n",
    "    print('Number of books collected: ' + str(total))"
   ]
  }
 ],
 "metadata": {
  "kernelspec": {
   "display_name": "Python 3 (ipykernel)",
   "language": "python",
   "name": "python3"
  },
  "language_info": {
   "codemirror_mode": {
    "name": "ipython",
    "version": 3
   },
   "file_extension": ".py",
   "mimetype": "text/x-python",
   "name": "python",
   "nbconvert_exporter": "python",
   "pygments_lexer": "ipython3",
   "version": "3.9.12"
  }
 },
 "nbformat": 4,
 "nbformat_minor": 5
}
