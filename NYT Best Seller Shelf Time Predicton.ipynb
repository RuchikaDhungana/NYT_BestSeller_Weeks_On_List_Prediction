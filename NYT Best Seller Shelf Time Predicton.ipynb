{
 "cells": [
  {
   "cell_type": "code",
   "execution_count": 1,
   "id": "54460036",
   "metadata": {},
   "outputs": [],
   "source": [
    "#import necessary libraries\n",
    "import pandas as pd\n",
    "import numpy as np\n",
    "import requests, math, datetime, time\n",
    "import os\n",
    "import json\n",
    "import dateutil\n",
    "from dateutil.relativedelta import relativedelta\n",
    "import csv\n",
    "import pprint"
   ]
  },
  {
   "cell_type": "code",
   "execution_count": 44,
   "id": "655a1235",
   "metadata": {},
   "outputs": [],
   "source": [
    "def parse_books(book_list, date):\n",
    "    books = []\n",
    "    for book in book_list['results']['books']:\n",
    "        dic = {}\n",
    "        dic['title'] = book['title']\n",
    "        dic['author'] = book['author']\n",
    "        dic['price'] = book['price']\n",
    "        dic['publisher'] = book['publisher']\n",
    "        dic['isbn'] = book['primary_isbn10']\n",
    "        dic['contributor'] = book['contributor']\n",
    "        dic['date'] = date  \n",
    "        dic['rank'] = book['rank']\n",
    "        dic['rank_last_week'] = book['rank_last_week']\n",
    "        dic['weeks_on_list'] = book['weeks_on_list']      \n",
    "        books.append(dic)\n",
    "    return(books) "
   ]
  },
  {
   "cell_type": "code",
   "execution_count": 45,
   "id": "1a20f519",
   "metadata": {},
   "outputs": [],
   "source": [
    "#API KEYS\n",
    "API_KEY = \"yAZ1u53B2xG9k8zWc6sIjYoaC8sYibH2\"\n",
    "\n",
    "#PARAMETERS\n",
    "LIST = \"/Combined%20Print%20and%20E-Book%20Fiction\"\n",
    "\n",
    "BOOKS_ROOT = \"https://api.nytimes.com/svc/books/v3/lists/\""
   ]
  },
  {
   "cell_type": "code",
   "execution_count": 50,
   "id": "2e922b4c",
   "metadata": {
    "scrolled": true
   },
   "outputs": [],
   "source": [
    "def get_data():\n",
    "    bestsellers = []\n",
    "    num_days_to_get = 365 #you can use up to 1000 api calls a day so max=1000\n",
    "    total = 0\n",
    "    \n",
    "    #create a directory to save data in csv files\n",
    "    if not os.path.exists('books'):\n",
    "        os.mkdir('books')\n",
    "    \n",
    "    for i in range(0,num_days_to_get):\n",
    "        day = datetime.datetime.now() - datetime.timedelta(days=i)  \n",
    "        date = str(day.date())\n",
    "        print('Dowloading bestseller books from....'+ date)\n",
    "        \n",
    "        #send api request\n",
    "        url = BOOKS_ROOT+date+LIST+'.json?api-key='+API_KEY\n",
    "        #send api request\n",
    "        response = requests.get(url)\n",
    "        time.sleep(6)\n",
    "        \n",
    "        if (response.status_code == 200):\n",
    "            results = response.json()\n",
    "            books = parse_books(results, date)\n",
    "            bestsellers.extend(books)\n",
    "            df = pd.DataFrame(bestsellers) \n",
    "            total += len(df)\n",
    "            df.to_csv('books/books.csv', index=False)\n",
    "    print('Number of books collected: ' + str(total))\n"
   ]
  },
  {
   "cell_type": "code",
   "execution_count": 51,
   "id": "a90302da",
   "metadata": {},
   "outputs": [
    {
     "name": "stdout",
     "output_type": "stream",
     "text": [
      "Dowloading bestseller books from....2022-12-20\n"
     ]
    },
    {
     "ename": "KeyboardInterrupt",
     "evalue": "",
     "output_type": "error",
     "traceback": [
      "\u001b[1;31m---------------------------------------------------------------------------\u001b[0m",
      "\u001b[1;31mKeyboardInterrupt\u001b[0m                         Traceback (most recent call last)",
      "Input \u001b[1;32mIn [51]\u001b[0m, in \u001b[0;36m<cell line: 1>\u001b[1;34m()\u001b[0m\n\u001b[1;32m----> 1\u001b[0m dataset \u001b[38;5;241m=\u001b[39m \u001b[43mget_data\u001b[49m\u001b[43m(\u001b[49m\u001b[43m)\u001b[49m\n",
      "Input \u001b[1;32mIn [50]\u001b[0m, in \u001b[0;36mget_data\u001b[1;34m()\u001b[0m\n\u001b[0;32m     17\u001b[0m \u001b[38;5;66;03m#send api request\u001b[39;00m\n\u001b[0;32m     18\u001b[0m response \u001b[38;5;241m=\u001b[39m requests\u001b[38;5;241m.\u001b[39mget(url)\n\u001b[1;32m---> 19\u001b[0m \u001b[43mtime\u001b[49m\u001b[38;5;241;43m.\u001b[39;49m\u001b[43msleep\u001b[49m\u001b[43m(\u001b[49m\u001b[38;5;241;43m6\u001b[39;49m\u001b[43m)\u001b[49m\n\u001b[0;32m     21\u001b[0m \u001b[38;5;28;01mif\u001b[39;00m (response\u001b[38;5;241m.\u001b[39mstatus_code \u001b[38;5;241m==\u001b[39m \u001b[38;5;241m200\u001b[39m):\n\u001b[0;32m     22\u001b[0m     results \u001b[38;5;241m=\u001b[39m response\u001b[38;5;241m.\u001b[39mjson()\n",
      "\u001b[1;31mKeyboardInterrupt\u001b[0m: "
     ]
    }
   ],
   "source": [
    "dataset = get_data()"
   ]
  },
  {
   "cell_type": "code",
   "execution_count": 54,
   "id": "9c95247d",
   "metadata": {},
   "outputs": [
    {
     "ename": "NameError",
     "evalue": "name 'dataset' is not defined",
     "output_type": "error",
     "traceback": [
      "\u001b[1;31m---------------------------------------------------------------------------\u001b[0m",
      "\u001b[1;31mNameError\u001b[0m                                 Traceback (most recent call last)",
      "Input \u001b[1;32mIn [54]\u001b[0m, in \u001b[0;36m<cell line: 1>\u001b[1;34m()\u001b[0m\n\u001b[1;32m----> 1\u001b[0m joblib\u001b[38;5;241m.\u001b[39mdump(\u001b[43mdataset\u001b[49m ,\u001b[38;5;124mr\u001b[39m\u001b[38;5;124m'\u001b[39m\u001b[38;5;124mR:\u001b[39m\u001b[38;5;124m\\\u001b[39m\u001b[38;5;124mProjects\u001b[39m\u001b[38;5;124m\\\u001b[39m\u001b[38;5;124mNYT\u001b[39m\u001b[38;5;124m\\\u001b[39m\u001b[38;5;124mmodels\u001b[39m\u001b[38;5;124m\\\u001b[39m\u001b[38;5;124mapiCall.sav\u001b[39m\u001b[38;5;124m'\u001b[39m)\n",
      "\u001b[1;31mNameError\u001b[0m: name 'dataset' is not defined"
     ]
    }
   ],
   "source": [
    "joblib.dump(dataset ,r'R:\\Projects\\NYT\\models\\apiCall.sav')"
   ]
  },
  {
   "cell_type": "code",
   "execution_count": 2,
   "id": "170c4bbf",
   "metadata": {
    "scrolled": true
   },
   "outputs": [
    {
     "data": {
      "text/html": [
       "<div>\n",
       "<style scoped>\n",
       "    .dataframe tbody tr th:only-of-type {\n",
       "        vertical-align: middle;\n",
       "    }\n",
       "\n",
       "    .dataframe tbody tr th {\n",
       "        vertical-align: top;\n",
       "    }\n",
       "\n",
       "    .dataframe thead th {\n",
       "        text-align: right;\n",
       "    }\n",
       "</style>\n",
       "<table border=\"1\" class=\"dataframe\">\n",
       "  <thead>\n",
       "    <tr style=\"text-align: right;\">\n",
       "      <th></th>\n",
       "      <th>title</th>\n",
       "      <th>author</th>\n",
       "      <th>price</th>\n",
       "      <th>publisher</th>\n",
       "      <th>isbn</th>\n",
       "      <th>contributor</th>\n",
       "      <th>date</th>\n",
       "      <th>rank</th>\n",
       "      <th>rank_last_week</th>\n",
       "      <th>weeks_on_list</th>\n",
       "    </tr>\n",
       "  </thead>\n",
       "  <tbody>\n",
       "    <tr>\n",
       "      <th>0</th>\n",
       "      <td>A WORLD OF CURIOSITIES</td>\n",
       "      <td>Louise Penny</td>\n",
       "      <td>0.0</td>\n",
       "      <td>Minotaur</td>\n",
       "      <td>1250145317</td>\n",
       "      <td>by Louise Penny</td>\n",
       "      <td>2022-12-18</td>\n",
       "      <td>1</td>\n",
       "      <td>0</td>\n",
       "      <td>1</td>\n",
       "    </tr>\n",
       "    <tr>\n",
       "      <th>1</th>\n",
       "      <td>IT STARTS WITH US</td>\n",
       "      <td>Colleen Hoover</td>\n",
       "      <td>0.0</td>\n",
       "      <td>Atria</td>\n",
       "      <td>1668001225</td>\n",
       "      <td>by Colleen Hoover</td>\n",
       "      <td>2022-12-18</td>\n",
       "      <td>2</td>\n",
       "      <td>1</td>\n",
       "      <td>7</td>\n",
       "    </tr>\n",
       "    <tr>\n",
       "      <th>2</th>\n",
       "      <td>IT ENDS WITH US</td>\n",
       "      <td>Colleen Hoover</td>\n",
       "      <td>0.0</td>\n",
       "      <td>Atria</td>\n",
       "      <td>1501110365</td>\n",
       "      <td>by Colleen Hoover</td>\n",
       "      <td>2022-12-18</td>\n",
       "      <td>3</td>\n",
       "      <td>3</td>\n",
       "      <td>77</td>\n",
       "    </tr>\n",
       "    <tr>\n",
       "      <th>3</th>\n",
       "      <td>VERITY</td>\n",
       "      <td>Colleen Hoover</td>\n",
       "      <td>0.0</td>\n",
       "      <td>Grand Central</td>\n",
       "      <td>1538724731</td>\n",
       "      <td>by Colleen Hoover</td>\n",
       "      <td>2022-12-18</td>\n",
       "      <td>4</td>\n",
       "      <td>4</td>\n",
       "      <td>52</td>\n",
       "    </tr>\n",
       "    <tr>\n",
       "      <th>4</th>\n",
       "      <td>THE BOYS FROM BILOXI</td>\n",
       "      <td>John Grisham</td>\n",
       "      <td>0.0</td>\n",
       "      <td>Doubleday</td>\n",
       "      <td>0385548923</td>\n",
       "      <td>by John Grisham</td>\n",
       "      <td>2022-12-18</td>\n",
       "      <td>5</td>\n",
       "      <td>6</td>\n",
       "      <td>7</td>\n",
       "    </tr>\n",
       "    <tr>\n",
       "      <th>...</th>\n",
       "      <td>...</td>\n",
       "      <td>...</td>\n",
       "      <td>...</td>\n",
       "      <td>...</td>\n",
       "      <td>...</td>\n",
       "      <td>...</td>\n",
       "      <td>...</td>\n",
       "      <td>...</td>\n",
       "      <td>...</td>\n",
       "      <td>...</td>\n",
       "    </tr>\n",
       "    <tr>\n",
       "      <th>5470</th>\n",
       "      <td>THE DARK HOURS</td>\n",
       "      <td>Michael Connelly</td>\n",
       "      <td>0.0</td>\n",
       "      <td>Little, Brown</td>\n",
       "      <td>0316485640</td>\n",
       "      <td>by Michael Connelly</td>\n",
       "      <td>2021-12-19</td>\n",
       "      <td>11</td>\n",
       "      <td>11</td>\n",
       "      <td>4</td>\n",
       "    </tr>\n",
       "    <tr>\n",
       "      <th>5471</th>\n",
       "      <td>THE SEVEN HUSBANDS OF EVELYN HUGO</td>\n",
       "      <td>Taylor Jenkins Reid</td>\n",
       "      <td>0.0</td>\n",
       "      <td>Washington Square/Atria</td>\n",
       "      <td>1501161938</td>\n",
       "      <td>by Taylor Jenkins Reid</td>\n",
       "      <td>2021-12-19</td>\n",
       "      <td>12</td>\n",
       "      <td>13</td>\n",
       "      <td>23</td>\n",
       "    </tr>\n",
       "    <tr>\n",
       "      <th>5472</th>\n",
       "      <td>MERCY</td>\n",
       "      <td>David Baldacci</td>\n",
       "      <td>0.0</td>\n",
       "      <td>Grand Central</td>\n",
       "      <td>153871972X</td>\n",
       "      <td>by David Baldacci</td>\n",
       "      <td>2021-12-19</td>\n",
       "      <td>13</td>\n",
       "      <td>9</td>\n",
       "      <td>3</td>\n",
       "    </tr>\n",
       "    <tr>\n",
       "      <th>5473</th>\n",
       "      <td>THE BECOMING</td>\n",
       "      <td>Nora Roberts</td>\n",
       "      <td>0.0</td>\n",
       "      <td>St. Martin's</td>\n",
       "      <td>125027270X</td>\n",
       "      <td>by Nora Roberts</td>\n",
       "      <td>2021-12-19</td>\n",
       "      <td>14</td>\n",
       "      <td>2</td>\n",
       "      <td>2</td>\n",
       "    </tr>\n",
       "    <tr>\n",
       "      <th>5474</th>\n",
       "      <td>CLOUD CUCKOO LAND</td>\n",
       "      <td>Anthony Doerr</td>\n",
       "      <td>0.0</td>\n",
       "      <td>Scribner</td>\n",
       "      <td>1982168439</td>\n",
       "      <td>by Anthony Doerr</td>\n",
       "      <td>2021-12-19</td>\n",
       "      <td>15</td>\n",
       "      <td>0</td>\n",
       "      <td>8</td>\n",
       "    </tr>\n",
       "  </tbody>\n",
       "</table>\n",
       "<p>5475 rows × 10 columns</p>\n",
       "</div>"
      ],
      "text/plain": [
       "                                  title               author  price  \\\n",
       "0                A WORLD OF CURIOSITIES         Louise Penny    0.0   \n",
       "1                     IT STARTS WITH US       Colleen Hoover    0.0   \n",
       "2                       IT ENDS WITH US       Colleen Hoover    0.0   \n",
       "3                                VERITY       Colleen Hoover    0.0   \n",
       "4                  THE BOYS FROM BILOXI         John Grisham    0.0   \n",
       "...                                 ...                  ...    ...   \n",
       "5470                     THE DARK HOURS     Michael Connelly    0.0   \n",
       "5471  THE SEVEN HUSBANDS OF EVELYN HUGO  Taylor Jenkins Reid    0.0   \n",
       "5472                              MERCY       David Baldacci    0.0   \n",
       "5473                       THE BECOMING         Nora Roberts    0.0   \n",
       "5474                  CLOUD CUCKOO LAND        Anthony Doerr    0.0   \n",
       "\n",
       "                    publisher        isbn             contributor        date  \\\n",
       "0                    Minotaur  1250145317         by Louise Penny  2022-12-18   \n",
       "1                       Atria  1668001225       by Colleen Hoover  2022-12-18   \n",
       "2                       Atria  1501110365       by Colleen Hoover  2022-12-18   \n",
       "3               Grand Central  1538724731       by Colleen Hoover  2022-12-18   \n",
       "4                   Doubleday  0385548923         by John Grisham  2022-12-18   \n",
       "...                       ...         ...                     ...         ...   \n",
       "5470            Little, Brown  0316485640     by Michael Connelly  2021-12-19   \n",
       "5471  Washington Square/Atria  1501161938  by Taylor Jenkins Reid  2021-12-19   \n",
       "5472            Grand Central  153871972X       by David Baldacci  2021-12-19   \n",
       "5473             St. Martin's  125027270X         by Nora Roberts  2021-12-19   \n",
       "5474                 Scribner  1982168439        by Anthony Doerr  2021-12-19   \n",
       "\n",
       "      rank  rank_last_week  weeks_on_list  \n",
       "0        1               0              1  \n",
       "1        2               1              7  \n",
       "2        3               3             77  \n",
       "3        4               4             52  \n",
       "4        5               6              7  \n",
       "...    ...             ...            ...  \n",
       "5470    11              11              4  \n",
       "5471    12              13             23  \n",
       "5472    13               9              3  \n",
       "5473    14               2              2  \n",
       "5474    15               0              8  \n",
       "\n",
       "[5475 rows x 10 columns]"
      ]
     },
     "execution_count": 2,
     "metadata": {},
     "output_type": "execute_result"
    }
   ],
   "source": [
    "#read the csv file\n",
    "df = pd.read_csv('books/books.csv')\n",
    "df"
   ]
  },
  {
   "cell_type": "markdown",
   "id": "89800d3f",
   "metadata": {},
   "source": [
    "# Data Preprocessing"
   ]
  },
  {
   "cell_type": "code",
   "execution_count": 3,
   "id": "f8fca38c",
   "metadata": {},
   "outputs": [
    {
     "name": "stdout",
     "output_type": "stream",
     "text": [
      "<class 'pandas.core.frame.DataFrame'>\n",
      "RangeIndex: 5475 entries, 0 to 5474\n",
      "Data columns (total 10 columns):\n",
      " #   Column          Non-Null Count  Dtype  \n",
      "---  ------          --------------  -----  \n",
      " 0   title           5475 non-null   object \n",
      " 1   author          5475 non-null   object \n",
      " 2   price           5475 non-null   float64\n",
      " 3   publisher       5475 non-null   object \n",
      " 4   isbn            5475 non-null   object \n",
      " 5   contributor     5475 non-null   object \n",
      " 6   date            5475 non-null   object \n",
      " 7   rank            5475 non-null   int64  \n",
      " 8   rank_last_week  5475 non-null   int64  \n",
      " 9   weeks_on_list   5475 non-null   int64  \n",
      "dtypes: float64(1), int64(3), object(6)\n",
      "memory usage: 427.9+ KB\n"
     ]
    }
   ],
   "source": [
    "df.info()"
   ]
  },
  {
   "cell_type": "code",
   "execution_count": 4,
   "id": "0df0dfe0",
   "metadata": {},
   "outputs": [
    {
     "data": {
      "text/plain": [
       "(5475, 10)"
      ]
     },
     "execution_count": 4,
     "metadata": {},
     "output_type": "execute_result"
    }
   ],
   "source": [
    "df.shape"
   ]
  },
  {
   "cell_type": "code",
   "execution_count": 5,
   "id": "b213b907",
   "metadata": {},
   "outputs": [
    {
     "data": {
      "text/plain": [
       "title              object\n",
       "author             object\n",
       "price             float64\n",
       "publisher          object\n",
       "isbn               object\n",
       "contributor        object\n",
       "date               object\n",
       "rank                int64\n",
       "rank_last_week      int64\n",
       "weeks_on_list       int64\n",
       "dtype: object"
      ]
     },
     "execution_count": 5,
     "metadata": {},
     "output_type": "execute_result"
    }
   ],
   "source": [
    "df.dtypes"
   ]
  },
  {
   "cell_type": "markdown",
   "id": "cad496c2",
   "metadata": {},
   "source": [
    "## Exploratory Data Analysis"
   ]
  },
  {
   "cell_type": "code",
   "execution_count": 5,
   "id": "0acafb85",
   "metadata": {},
   "outputs": [],
   "source": [
    "import dtale\n",
    "import klib\n",
    "import seaborn as sns\n",
    "import matplotlib.pyplot as plt\n",
    "%matplotlib inline\n",
    "import warnings\n",
    "warnings.filterwarnings('ignore')"
   ]
  },
  {
   "cell_type": "code",
   "execution_count": 12,
   "id": "e4f0345f",
   "metadata": {
    "scrolled": false
   },
   "outputs": [
    {
     "data": {
      "text/html": [
       "\n",
       "        <iframe\n",
       "            width=\"100%\"\n",
       "            height=\"475\"\n",
       "            src=\"http://DESKTOP-K1P56CH:40000/dtale/iframe/2\"\n",
       "            frameborder=\"0\"\n",
       "            allowfullscreen\n",
       "            \n",
       "        ></iframe>\n",
       "        "
      ],
      "text/plain": [
       "<IPython.lib.display.IFrame at 0x1498180da30>"
      ]
     },
     "metadata": {},
     "output_type": "display_data"
    },
    {
     "data": {
      "text/plain": []
     },
     "execution_count": 12,
     "metadata": {},
     "output_type": "execute_result"
    }
   ],
   "source": [
    "dtale.show(df)"
   ]
  },
  {
   "cell_type": "markdown",
   "id": "8c322a6a",
   "metadata": {},
   "source": [
    "### Categorical Data Distribution"
   ]
  },
  {
   "cell_type": "code",
   "execution_count": 7,
   "id": "0ca8023b",
   "metadata": {
    "scrolled": true
   },
   "outputs": [
    {
     "data": {
      "text/plain": [
       "GridSpec(6, 6)"
      ]
     },
     "execution_count": 7,
     "metadata": {},
     "output_type": "execute_result"
    },
    {
     "data": {
      "image/png": "[encoded data removed]",
      "text/plain": [
       "<Figure size 1296x1296 with 13 Axes>"
      ]
     },
     "metadata": {
      "needs_background": "light"
     },
     "output_type": "display_data"
    }
   ],
   "source": [
    "klib.cat_plot(df)"
   ]
  },
  {
   "cell_type": "markdown",
   "id": "109c576b",
   "metadata": {},
   "source": [
    "### Numeric Data Distribution"
   ]
  },
  {
   "cell_type": "code",
   "execution_count": 8,
   "id": "ef9cc6f8",
   "metadata": {},
   "outputs": [
    {
     "data": {
      "text/plain": [
       "<AxesSubplot: xlabel='weeks_on_list', ylabel='Density'>"
      ]
     },
     "execution_count": 8,
     "metadata": {},
     "output_type": "execute_result"
    },
    {
     "data": {
      "image/png": "[encoded data removed]",
      "text/plain": [
       "<Figure size 1080x216 with 1 Axes>"
      ]
     },
     "metadata": {
      "needs_background": "light"
     },
     "output_type": "display_data"
    },
    {
     "data": {
      "image/png": "[encoded data removed]",
      "text/plain": [
       "<Figure size 1080x216 with 1 Axes>"
      ]
     },
     "metadata": {
      "needs_background": "light"
     },
     "output_type": "display_data"
    },
    {
     "data": {
      "image/png": "[encoded data removed]",
      "text/plain": [
       "<Figure size 1080x216 with 1 Axes>"
      ]
     },
     "metadata": {
      "needs_background": "light"
     },
     "output_type": "display_data"
    }
   ],
   "source": [
    "klib.dist_plot(df)"
   ]
  },
  {
   "cell_type": "markdown",
   "id": "e923d4d3",
   "metadata": {},
   "source": [
    "### Corelation"
   ]
  },
  {
   "cell_type": "code",
   "execution_count": 9,
   "id": "1e96a35c",
   "metadata": {
    "scrolled": true
   },
   "outputs": [
    {
     "data": {
      "text/plain": [
       "<AxesSubplot: >"
      ]
     },
     "execution_count": 9,
     "metadata": {},
     "output_type": "execute_result"
    },
    {
     "data": {
      "image/png": "[encoded data removed]",
      "text/plain": [
       "<Figure size 720x360 with 2 Axes>"
      ]
     },
     "metadata": {
      "needs_background": "light"
     },
     "output_type": "display_data"
    }
   ],
   "source": [
    "plt.figure(figsize= (10,5))\n",
    "sns.heatmap(df.corr(), annot = True)"
   ]
  },
  {
   "cell_type": "markdown",
   "id": "26f3c469",
   "metadata": {},
   "source": [
    "## Remove Outliers"
   ]
  },
  {
   "cell_type": "code",
   "execution_count": 10,
   "id": "48ef0c3b",
   "metadata": {
    "scrolled": false
   },
   "outputs": [
    {
     "data": {
      "text/plain": [
       "<AxesSubplot: xlabel='weeks_on_list'>"
      ]
     },
     "execution_count": 10,
     "metadata": {},
     "output_type": "execute_result"
    },
    {
     "data": {
      "image/png": "[encoded data removed]",
      "text/plain": [
       "<Figure size 432x288 with 1 Axes>"
      ]
     },
     "metadata": {
      "needs_background": "light"
     },
     "output_type": "display_data"
    }
   ],
   "source": [
    "sns.boxplot(x=df['weeks_on_list'])"
   ]
  },
  {
   "cell_type": "markdown",
   "id": "79a8cef9",
   "metadata": {},
   "source": [
    "## Handle Missing Values"
   ]
  },
  {
   "cell_type": "code",
   "execution_count": 11,
   "id": "895a82b4",
   "metadata": {},
   "outputs": [
    {
     "data": {
      "text/plain": [
       "title             0\n",
       "author            0\n",
       "price             0\n",
       "publisher         0\n",
       "isbn              0\n",
       "contributor       0\n",
       "date              0\n",
       "rank              0\n",
       "rank_last_week    0\n",
       "weeks_on_list     0\n",
       "dtype: int64"
      ]
     },
     "execution_count": 11,
     "metadata": {},
     "output_type": "execute_result"
    }
   ],
   "source": [
    "df.isnull().sum()"
   ]
  },
  {
   "cell_type": "markdown",
   "id": "f569b39a",
   "metadata": {},
   "source": [
    "## Dimensionality Reduction and Feature Selection"
   ]
  },
  {
   "cell_type": "code",
   "execution_count": 6,
   "id": "2a6b1af4",
   "metadata": {},
   "outputs": [],
   "source": [
    "df.drop(['price','isbn','date'], axis = 1, inplace = True)"
   ]
  },
  {
   "cell_type": "code",
   "execution_count": 7,
   "id": "69260cfc",
   "metadata": {},
   "outputs": [
    {
     "data": {
      "text/html": [
       "<div>\n",
       "<style scoped>\n",
       "    .dataframe tbody tr th:only-of-type {\n",
       "        vertical-align: middle;\n",
       "    }\n",
       "\n",
       "    .dataframe tbody tr th {\n",
       "        vertical-align: top;\n",
       "    }\n",
       "\n",
       "    .dataframe thead th {\n",
       "        text-align: right;\n",
       "    }\n",
       "</style>\n",
       "<table border=\"1\" class=\"dataframe\">\n",
       "  <thead>\n",
       "    <tr style=\"text-align: right;\">\n",
       "      <th></th>\n",
       "      <th>title</th>\n",
       "      <th>author</th>\n",
       "      <th>publisher</th>\n",
       "      <th>contributor</th>\n",
       "      <th>rank</th>\n",
       "      <th>rank_last_week</th>\n",
       "      <th>weeks_on_list</th>\n",
       "    </tr>\n",
       "  </thead>\n",
       "  <tbody>\n",
       "    <tr>\n",
       "      <th>0</th>\n",
       "      <td>A WORLD OF CURIOSITIES</td>\n",
       "      <td>Louise Penny</td>\n",
       "      <td>Minotaur</td>\n",
       "      <td>by Louise Penny</td>\n",
       "      <td>1</td>\n",
       "      <td>0</td>\n",
       "      <td>1</td>\n",
       "    </tr>\n",
       "    <tr>\n",
       "      <th>1</th>\n",
       "      <td>IT STARTS WITH US</td>\n",
       "      <td>Colleen Hoover</td>\n",
       "      <td>Atria</td>\n",
       "      <td>by Colleen Hoover</td>\n",
       "      <td>2</td>\n",
       "      <td>1</td>\n",
       "      <td>7</td>\n",
       "    </tr>\n",
       "    <tr>\n",
       "      <th>2</th>\n",
       "      <td>IT ENDS WITH US</td>\n",
       "      <td>Colleen Hoover</td>\n",
       "      <td>Atria</td>\n",
       "      <td>by Colleen Hoover</td>\n",
       "      <td>3</td>\n",
       "      <td>3</td>\n",
       "      <td>77</td>\n",
       "    </tr>\n",
       "    <tr>\n",
       "      <th>3</th>\n",
       "      <td>VERITY</td>\n",
       "      <td>Colleen Hoover</td>\n",
       "      <td>Grand Central</td>\n",
       "      <td>by Colleen Hoover</td>\n",
       "      <td>4</td>\n",
       "      <td>4</td>\n",
       "      <td>52</td>\n",
       "    </tr>\n",
       "    <tr>\n",
       "      <th>4</th>\n",
       "      <td>THE BOYS FROM BILOXI</td>\n",
       "      <td>John Grisham</td>\n",
       "      <td>Doubleday</td>\n",
       "      <td>by John Grisham</td>\n",
       "      <td>5</td>\n",
       "      <td>6</td>\n",
       "      <td>7</td>\n",
       "    </tr>\n",
       "  </tbody>\n",
       "</table>\n",
       "</div>"
      ],
      "text/plain": [
       "                    title          author      publisher        contributor  \\\n",
       "0  A WORLD OF CURIOSITIES    Louise Penny       Minotaur    by Louise Penny   \n",
       "1       IT STARTS WITH US  Colleen Hoover          Atria  by Colleen Hoover   \n",
       "2         IT ENDS WITH US  Colleen Hoover          Atria  by Colleen Hoover   \n",
       "3                  VERITY  Colleen Hoover  Grand Central  by Colleen Hoover   \n",
       "4    THE BOYS FROM BILOXI    John Grisham      Doubleday    by John Grisham   \n",
       "\n",
       "   rank  rank_last_week  weeks_on_list  \n",
       "0     1               0              1  \n",
       "1     2               1              7  \n",
       "2     3               3             77  \n",
       "3     4               4             52  \n",
       "4     5               6              7  "
      ]
     },
     "execution_count": 7,
     "metadata": {},
     "output_type": "execute_result"
    }
   ],
   "source": [
    "df.head()"
   ]
  },
  {
   "cell_type": "markdown",
   "id": "1f023e5b",
   "metadata": {},
   "source": [
    "## Data Cleaning"
   ]
  },
  {
   "cell_type": "code",
   "execution_count": 8,
   "id": "dc3d5db4",
   "metadata": {},
   "outputs": [
    {
     "data": {
      "text/html": [
       "<div>\n",
       "<style scoped>\n",
       "    .dataframe tbody tr th:only-of-type {\n",
       "        vertical-align: middle;\n",
       "    }\n",
       "\n",
       "    .dataframe tbody tr th {\n",
       "        vertical-align: top;\n",
       "    }\n",
       "\n",
       "    .dataframe thead th {\n",
       "        text-align: right;\n",
       "    }\n",
       "</style>\n",
       "<table border=\"1\" class=\"dataframe\">\n",
       "  <thead>\n",
       "    <tr style=\"text-align: right;\">\n",
       "      <th></th>\n",
       "      <th>title</th>\n",
       "      <th>author</th>\n",
       "      <th>publisher</th>\n",
       "      <th>contributor</th>\n",
       "      <th>ranking</th>\n",
       "      <th>rank_last_week</th>\n",
       "      <th>weeks_on_list</th>\n",
       "    </tr>\n",
       "  </thead>\n",
       "  <tbody>\n",
       "    <tr>\n",
       "      <th>0</th>\n",
       "      <td>A WORLD OF CURIOSITIES</td>\n",
       "      <td>Louise Penny</td>\n",
       "      <td>Minotaur</td>\n",
       "      <td>by Louise Penny</td>\n",
       "      <td>1</td>\n",
       "      <td>0</td>\n",
       "      <td>1</td>\n",
       "    </tr>\n",
       "    <tr>\n",
       "      <th>1</th>\n",
       "      <td>IT STARTS WITH US</td>\n",
       "      <td>Colleen Hoover</td>\n",
       "      <td>Atria</td>\n",
       "      <td>by Colleen Hoover</td>\n",
       "      <td>2</td>\n",
       "      <td>1</td>\n",
       "      <td>7</td>\n",
       "    </tr>\n",
       "    <tr>\n",
       "      <th>2</th>\n",
       "      <td>IT ENDS WITH US</td>\n",
       "      <td>Colleen Hoover</td>\n",
       "      <td>Atria</td>\n",
       "      <td>by Colleen Hoover</td>\n",
       "      <td>3</td>\n",
       "      <td>3</td>\n",
       "      <td>77</td>\n",
       "    </tr>\n",
       "    <tr>\n",
       "      <th>3</th>\n",
       "      <td>VERITY</td>\n",
       "      <td>Colleen Hoover</td>\n",
       "      <td>Grand Central</td>\n",
       "      <td>by Colleen Hoover</td>\n",
       "      <td>4</td>\n",
       "      <td>4</td>\n",
       "      <td>52</td>\n",
       "    </tr>\n",
       "    <tr>\n",
       "      <th>4</th>\n",
       "      <td>THE BOYS FROM BILOXI</td>\n",
       "      <td>John Grisham</td>\n",
       "      <td>Doubleday</td>\n",
       "      <td>by John Grisham</td>\n",
       "      <td>5</td>\n",
       "      <td>6</td>\n",
       "      <td>7</td>\n",
       "    </tr>\n",
       "  </tbody>\n",
       "</table>\n",
       "</div>"
      ],
      "text/plain": [
       "                    title          author      publisher        contributor  \\\n",
       "0  A WORLD OF CURIOSITIES    Louise Penny       Minotaur    by Louise Penny   \n",
       "1       IT STARTS WITH US  Colleen Hoover          Atria  by Colleen Hoover   \n",
       "2         IT ENDS WITH US  Colleen Hoover          Atria  by Colleen Hoover   \n",
       "3                  VERITY  Colleen Hoover  Grand Central  by Colleen Hoover   \n",
       "4    THE BOYS FROM BILOXI    John Grisham      Doubleday    by John Grisham   \n",
       "\n",
       "   ranking  rank_last_week  weeks_on_list  \n",
       "0        1               0              1  \n",
       "1        2               1              7  \n",
       "2        3               3             77  \n",
       "3        4               4             52  \n",
       "4        5               6              7  "
      ]
     },
     "execution_count": 8,
     "metadata": {},
     "output_type": "execute_result"
    }
   ],
   "source": [
    "df.rename(columns={'rank':'ranking'}, inplace=True)\n",
    "df.head()"
   ]
  },
  {
   "cell_type": "code",
   "execution_count": 9,
   "id": "371254a6",
   "metadata": {},
   "outputs": [
    {
     "name": "stdout",
     "output_type": "stream",
     "text": [
      "<class 'pandas.core.frame.DataFrame'>\n",
      "RangeIndex: 5475 entries, 0 to 5474\n",
      "Data columns (total 7 columns):\n",
      " #   Column          Non-Null Count  Dtype   \n",
      "---  ------          --------------  -----   \n",
      " 0   title           5475 non-null   category\n",
      " 1   author          5475 non-null   category\n",
      " 2   publisher       5475 non-null   category\n",
      " 3   contributor     5475 non-null   category\n",
      " 4   ranking         5475 non-null   int8    \n",
      " 5   rank_last_week  5475 non-null   int8    \n",
      " 6   weeks_on_list   5475 non-null   int16   \n",
      "dtypes: category(4), int16(1), int8(2)\n",
      "memory usage: 76.3 KB\n"
     ]
    }
   ],
   "source": [
    "df = klib.convert_datatypes(df)\n",
    "df.info()"
   ]
  },
  {
   "cell_type": "markdown",
   "id": "e078a5d7",
   "metadata": {},
   "source": [
    "## Label Encoding"
   ]
  },
  {
   "cell_type": "code",
   "execution_count": 10,
   "id": "5f7def61",
   "metadata": {},
   "outputs": [],
   "source": [
    "from sklearn.preprocessing import LabelEncoder\n",
    "le = LabelEncoder()"
   ]
  },
  {
   "cell_type": "code",
   "execution_count": 11,
   "id": "c0c26af8",
   "metadata": {},
   "outputs": [],
   "source": [
    "df['title'] = le.fit_transform(df['title'])\n",
    "df['author'] = le.fit_transform(df['author'])\n",
    "df['publisher'] = le.fit_transform(df['publisher'])\n",
    "df['contributor'] = le.fit_transform(df['contributor'])"
   ]
  },
  {
   "cell_type": "code",
   "execution_count": 12,
   "id": "397fd7df",
   "metadata": {
    "scrolled": true
   },
   "outputs": [
    {
     "data": {
      "text/html": [
       "<div>\n",
       "<style scoped>\n",
       "    .dataframe tbody tr th:only-of-type {\n",
       "        vertical-align: middle;\n",
       "    }\n",
       "\n",
       "    .dataframe tbody tr th {\n",
       "        vertical-align: top;\n",
       "    }\n",
       "\n",
       "    .dataframe thead th {\n",
       "        text-align: right;\n",
       "    }\n",
       "</style>\n",
       "<table border=\"1\" class=\"dataframe\">\n",
       "  <thead>\n",
       "    <tr style=\"text-align: right;\">\n",
       "      <th></th>\n",
       "      <th>title</th>\n",
       "      <th>author</th>\n",
       "      <th>publisher</th>\n",
       "      <th>contributor</th>\n",
       "      <th>ranking</th>\n",
       "      <th>rank_last_week</th>\n",
       "      <th>weeks_on_list</th>\n",
       "    </tr>\n",
       "  </thead>\n",
       "  <tbody>\n",
       "    <tr>\n",
       "      <th>0</th>\n",
       "      <td>6</td>\n",
       "      <td>102</td>\n",
       "      <td>27</td>\n",
       "      <td>102</td>\n",
       "      <td>1</td>\n",
       "      <td>0</td>\n",
       "      <td>1</td>\n",
       "    </tr>\n",
       "    <tr>\n",
       "      <th>1</th>\n",
       "      <td>69</td>\n",
       "      <td>26</td>\n",
       "      <td>2</td>\n",
       "      <td>26</td>\n",
       "      <td>2</td>\n",
       "      <td>1</td>\n",
       "      <td>7</td>\n",
       "    </tr>\n",
       "    <tr>\n",
       "      <th>2</th>\n",
       "      <td>68</td>\n",
       "      <td>26</td>\n",
       "      <td>2</td>\n",
       "      <td>26</td>\n",
       "      <td>3</td>\n",
       "      <td>3</td>\n",
       "      <td>77</td>\n",
       "    </tr>\n",
       "    <tr>\n",
       "      <th>3</th>\n",
       "      <td>188</td>\n",
       "      <td>26</td>\n",
       "      <td>19</td>\n",
       "      <td>26</td>\n",
       "      <td>4</td>\n",
       "      <td>4</td>\n",
       "      <td>52</td>\n",
       "    </tr>\n",
       "    <tr>\n",
       "      <th>4</th>\n",
       "      <td>127</td>\n",
       "      <td>85</td>\n",
       "      <td>14</td>\n",
       "      <td>85</td>\n",
       "      <td>5</td>\n",
       "      <td>6</td>\n",
       "      <td>7</td>\n",
       "    </tr>\n",
       "  </tbody>\n",
       "</table>\n",
       "</div>"
      ],
      "text/plain": [
       "   title  author  publisher  contributor  ranking  rank_last_week  \\\n",
       "0      6     102         27          102        1               0   \n",
       "1     69      26          2           26        2               1   \n",
       "2     68      26          2           26        3               3   \n",
       "3    188      26         19           26        4               4   \n",
       "4    127      85         14           85        5               6   \n",
       "\n",
       "   weeks_on_list  \n",
       "0              1  \n",
       "1              7  \n",
       "2             77  \n",
       "3             52  \n",
       "4              7  "
      ]
     },
     "execution_count": 12,
     "metadata": {},
     "output_type": "execute_result"
    }
   ],
   "source": [
    "df.head()"
   ]
  },
  {
   "cell_type": "markdown",
   "id": "264db27d",
   "metadata": {},
   "source": [
    "## Assign Target Variables"
   ]
  },
  {
   "cell_type": "code",
   "execution_count": 13,
   "id": "2476b3a7",
   "metadata": {},
   "outputs": [
    {
     "data": {
      "text/plain": [
       "array([[  6, 102,  27, 102,   1,   0],\n",
       "       [ 69,  26,   2,  26,   2,   1],\n",
       "       [ 68,  26,   2,  26,   3,   3],\n",
       "       ...,\n",
       "       [ 84,  31,  19,  31,  13,   9],\n",
       "       [124, 117,  42, 117,  14,   2],\n",
       "       [ 30,   9,  38,   9,  15,   0]], dtype=int32)"
      ]
     },
     "execution_count": 13,
     "metadata": {},
     "output_type": "execute_result"
    }
   ],
   "source": [
    "#X is independent data variables\n",
    "X = df.iloc[:, :-1].values\n",
    "X"
   ]
  },
  {
   "cell_type": "code",
   "execution_count": 14,
   "id": "6ac19176",
   "metadata": {},
   "outputs": [
    {
     "data": {
      "text/plain": [
       "array([ 1,  7, 77, ...,  3,  2,  8], dtype=int16)"
      ]
     },
     "execution_count": 14,
     "metadata": {},
     "output_type": "execute_result"
    }
   ],
   "source": [
    "#Y is our dependent target variable\n",
    "Y = df.iloc[:, -1].values\n",
    "Y"
   ]
  },
  {
   "cell_type": "markdown",
   "id": "5315de89",
   "metadata": {},
   "source": [
    "## Split Train and Testing Data"
   ]
  },
  {
   "cell_type": "code",
   "execution_count": 15,
   "id": "dab2ffe1",
   "metadata": {},
   "outputs": [],
   "source": [
    "from sklearn.model_selection import train_test_split"
   ]
  },
  {
   "cell_type": "code",
   "execution_count": 16,
   "id": "99b4c649",
   "metadata": {},
   "outputs": [],
   "source": [
    "#train and test split data\n",
    "#Split ratio =80:20. The 30% testing dataset is represented by 0.2.\n",
    "X_train,X_test,Y_train,Y_test=train_test_split(X, Y, random_state = 101, test_size = 0.2)"
   ]
  },
  {
   "cell_type": "code",
   "execution_count": 17,
   "id": "d68806f9",
   "metadata": {},
   "outputs": [
    {
     "name": "stdout",
     "output_type": "stream",
     "text": [
      "Shape of training feature: (4380, 6)\n",
      "Shape of testing feature: (1095, 6)\n",
      "Shape of training label: (4380,)\n",
      "Shape of testing label: (1095,)\n"
     ]
    }
   ],
   "source": [
    "print('Shape of training feature:', X_train.shape)\n",
    "print('Shape of testing feature:', X_test.shape)\n",
    "print('Shape of training label:', Y_train.shape)\n",
    "print('Shape of testing label:', Y_test.shape)"
   ]
  },
  {
   "cell_type": "markdown",
   "id": "a4bd75b7",
   "metadata": {},
   "source": [
    "## Standarize Data"
   ]
  },
  {
   "cell_type": "code",
   "execution_count": 18,
   "id": "1b6dfd5c",
   "metadata": {},
   "outputs": [],
   "source": [
    "from sklearn.preprocessing import StandardScaler"
   ]
  },
  {
   "cell_type": "code",
   "execution_count": 19,
   "id": "701372bb",
   "metadata": {},
   "outputs": [],
   "source": [
    "sc = StandardScaler()"
   ]
  },
  {
   "cell_type": "code",
   "execution_count": 20,
   "id": "d098ed53",
   "metadata": {},
   "outputs": [
    {
     "data": {
      "text/plain": [
       "array([[ 0.69890967,  1.34322713, -0.90002147,  1.34322713,  0.69244284,\n",
       "        -1.06600168],\n",
       "       [ 0.85024982,  1.86353508,  1.83483068,  1.86353508, -0.46259549,\n",
       "         0.45970141],\n",
       "       [-0.47818034, -0.78530539, -1.09536805, -0.78530539,  0.23042751,\n",
       "         0.45970141],\n",
       "       ...,\n",
       "       [-0.96583192, -0.73800467,  1.70459963, -0.73800467,  0.92345051,\n",
       "        -1.06600168],\n",
       "       [ 1.25382353, -0.64340322,  0.98832883, -0.64340322, -1.15561848,\n",
       "        -0.8480441 ],\n",
       "       [ 0.66527853, -1.30561334, -0.76979041, -1.30561334,  0.46143517,\n",
       "         0.67765899]])"
      ]
     },
     "execution_count": 20,
     "metadata": {},
     "output_type": "execute_result"
    }
   ],
   "source": [
    "#learn how data is distributed in X_train\n",
    "X_train_sc = sc.fit_transform(X_train)\n",
    "X_train_sc"
   ]
  },
  {
   "cell_type": "code",
   "execution_count": 21,
   "id": "b1cce704",
   "metadata": {},
   "outputs": [
    {
     "data": {
      "text/plain": [
       "array([[-0.52862705,  0.91752063, -0.44421278,  0.91752063, -1.38662615,\n",
       "        -1.06600168],\n",
       "       [ 0.66527853, -1.30561334, -0.76979041, -1.30561334,  0.23042751,\n",
       "         1.76744691],\n",
       "       [ 0.85024982,  1.86353508,  1.83483068,  1.86353508,  1.38546584,\n",
       "         1.11357416],\n",
       "       ...,\n",
       "       [-0.83130734, -0.78530539, -1.09536805, -0.78530539, -1.15561848,\n",
       "        -0.63008651],\n",
       "       [ 1.16974568, -0.78530539, -1.09536805, -0.78530539, -0.69360315,\n",
       "         0.24174382],\n",
       "       [ 0.85024982,  1.86353508,  1.83483068,  1.86353508,  0.92345051,\n",
       "         1.54948932]])"
      ]
     },
     "execution_count": 21,
     "metadata": {},
     "output_type": "execute_result"
    }
   ],
   "source": [
    "#transform the data\n",
    "X_test_sc = sc.transform(X_test)\n",
    "X_test_sc"
   ]
  },
  {
   "cell_type": "code",
   "execution_count": 41,
   "id": "09eef0dc",
   "metadata": {},
   "outputs": [],
   "source": [
    "import joblib"
   ]
  },
  {
   "cell_type": "code",
   "execution_count": 42,
   "id": "46baed5a",
   "metadata": {},
   "outputs": [
    {
     "data": {
      "text/plain": [
       "['R:\\\\Projects\\\\NYT\\\\models\\\\sc.sav']"
      ]
     },
     "execution_count": 42,
     "metadata": {},
     "output_type": "execute_result"
    }
   ],
   "source": [
    "joblib.dump(sc,r'R:\\Projects\\NYT\\models\\sc.sav')"
   ]
  },
  {
   "cell_type": "markdown",
   "id": "651ecd7b",
   "metadata": {},
   "source": [
    "## Model Building "
   ]
  },
  {
   "cell_type": "code",
   "execution_count": 22,
   "id": "0412b096",
   "metadata": {},
   "outputs": [],
   "source": [
    "from sklearn.linear_model import LogisticRegression\n",
    "#initiazlize the instance of the logistic regression\n",
    "lm=LogisticRegression()"
   ]
  },
  {
   "cell_type": "code",
   "execution_count": 38,
   "id": "f4eaac40",
   "metadata": {},
   "outputs": [],
   "source": [
    "from sklearn.metrics import r2_score, mean_absolute_error,mean_squared_error, accuracy_score"
   ]
  },
  {
   "cell_type": "code",
   "execution_count": 23,
   "id": "dd71b68a",
   "metadata": {},
   "outputs": [
    {
     "data": {
      "text/plain": [
       "LogisticRegression()"
      ]
     },
     "execution_count": 23,
     "metadata": {},
     "output_type": "execute_result"
    }
   ],
   "source": [
    "#call the fit module and train the model\n",
    "lm.fit(X_train_sc,Y_train)"
   ]
  },
  {
   "cell_type": "code",
   "execution_count": 29,
   "id": "164df3c7",
   "metadata": {},
   "outputs": [
    {
     "data": {
      "text/plain": [
       "array([ 1, 15,  2, ...,  2, 13,  3], dtype=int16)"
      ]
     },
     "execution_count": 29,
     "metadata": {},
     "output_type": "execute_result"
    }
   ],
   "source": [
    "#predict new output values, based on the test features (X_train)\n",
    "Y_pred_lm = lm.predict(X_test_sc)\n",
    "Y_pred_lm"
   ]
  },
  {
   "cell_type": "code",
   "execution_count": 39,
   "id": "80bf322c",
   "metadata": {},
   "outputs": [
    {
     "name": "stdout",
     "output_type": "stream",
     "text": [
      "-0.04549554972960412\n",
      "20.21461187214612\n",
      "39.87266261167283\n",
      "0.26301369863013696\n"
     ]
    }
   ],
   "source": [
    "print(r2_score(Y_test,Y_pred_lm))\n",
    "print(mean_absolute_error(Y_test,Y_pred_lm))\n",
    "print(np.sqrt(mean_squared_error(Y_test,Y_pred_lm)))\n",
    "print(accuracy_score(Y_test,Y_pred_lm))"
   ]
  },
  {
   "cell_type": "markdown",
   "id": "fd63dcec",
   "metadata": {},
   "source": [
    "### Random Forest Regression"
   ]
  },
  {
   "cell_type": "code",
   "execution_count": 31,
   "id": "9743b2b5",
   "metadata": {},
   "outputs": [],
   "source": [
    "from sklearn.ensemble import RandomForestRegressor"
   ]
  },
  {
   "cell_type": "code",
   "execution_count": 32,
   "id": "86183fa1",
   "metadata": {},
   "outputs": [],
   "source": [
    "rf = RandomForestRegressor()"
   ]
  },
  {
   "cell_type": "code",
   "execution_count": 33,
   "id": "44be197c",
   "metadata": {},
   "outputs": [
    {
     "data": {
      "text/plain": [
       "RandomForestRegressor()"
      ]
     },
     "execution_count": 33,
     "metadata": {},
     "output_type": "execute_result"
    }
   ],
   "source": [
    "rf.fit(X_train,Y_train)"
   ]
  },
  {
   "cell_type": "code",
   "execution_count": 36,
   "id": "f35689d8",
   "metadata": {},
   "outputs": [],
   "source": [
    "Y_pred_rf = rf.predict(X_test)"
   ]
  },
  {
   "cell_type": "code",
   "execution_count": 37,
   "id": "9ba785c5",
   "metadata": {},
   "outputs": [
    {
     "name": "stdout",
     "output_type": "stream",
     "text": [
      "0.9806174706499146\n",
      "1.9785996126534733\n",
      "5.428994088504918\n"
     ]
    }
   ],
   "source": [
    "print(r2_score(Y_test,Y_pred_rf))\n",
    "print(mean_absolute_error(Y_test,Y_pred_rf))\n",
    "print(np.sqrt(mean_squared_error(Y_test,Y_pred_rf)))"
   ]
  },
  {
   "cell_type": "code",
   "execution_count": 43,
   "id": "5bf340f7",
   "metadata": {},
   "outputs": [
    {
     "data": {
      "text/plain": [
       "['R:\\\\Projects\\\\NYT\\\\models\\\\randomForest.sav']"
      ]
     },
     "execution_count": 43,
     "metadata": {},
     "output_type": "execute_result"
    }
   ],
   "source": [
    "joblib.dump(rf,r'R:\\Projects\\NYT\\models\\randomForest.sav')"
   ]
  }
 ],
 "metadata": {
  "kernelspec": {
   "display_name": "Python 3 (ipykernel)",
   "language": "python",
   "name": "python3"
  },
  "language_info": {
   "codemirror_mode": {
    "name": "ipython",
    "version": 3
   },
   "file_extension": ".py",
   "mimetype": "text/x-python",
   "name": "python",
   "nbconvert_exporter": "python",
   "pygments_lexer": "ipython3",
   "version": "3.9.12"
  }
 },
 "nbformat": 4,
 "nbformat_minor": 5
}
